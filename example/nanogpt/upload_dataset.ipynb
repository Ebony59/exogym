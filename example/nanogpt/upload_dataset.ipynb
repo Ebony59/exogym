{
 "cells": [
  {
   "cell_type": "code",
   "execution_count": 1,
   "metadata": {},
   "outputs": [
    {
     "name": "stderr",
     "output_type": "stream",
     "text": [
      "/Users/frank/exo-sparta/DistributedSim/.venv/lib/python3.13/site-packages/tqdm/auto.py:21: TqdmWarning: IProgress not found. Please update jupyter and ipywidgets. See https://ipywidgets.readthedocs.io/en/stable/user_install.html\n",
      "  from .autonotebook import tqdm as notebook_tqdm\n"
     ]
    }
   ],
   "source": [
    "import sys\n",
    "import os\n",
    "\n",
    "from .build_dataset import *\n",
    "from .dataset import *\n",
    "\n",
    "import numpy as np\n",
    "import boto3\n",
    "from tqdm import tqdm\n",
    "import io"
   ]
  },
  {
   "cell_type": "code",
   "execution_count": 2,
   "metadata": {},
   "outputs": [
    {
     "name": "stdout",
     "output_type": "stream",
     "text": [
      "Loading dataset: owt (GPT2 tokenization) start%: 0.0 end%: 1\n",
      "Total records to import: 8013769\n",
      "Using 8013769 records: 0 to 8013769\n",
      "Dataset size: (5458019, 1024)\n"
     ]
    }
   ],
   "source": [
    "data_file, vocab_size = build_dataset('owt', end_pc=1)"
   ]
  },
  {
   "cell_type": "code",
   "execution_count": 5,
   "metadata": {},
   "outputs": [
    {
     "name": "stderr",
     "output_type": "stream",
     "text": [
      "Uploading chunks: 100%|██████████| 546/546 [40:02<00:00,  4.40s/chunk] "
     ]
    },
    {
     "name": "stdout",
     "output_type": "stream",
     "text": [
      "Successfully uploaded 546 chunks to exo-datasets with prefix owt\n"
     ]
    },
    {
     "name": "stderr",
     "output_type": "stream",
     "text": [
      "\n"
     ]
    }
   ],
   "source": [
    "def upload_numpy_array_in_chunks(data, bucket_name, object_name_prefix, chunk_size=1000):\n",
    "    \"\"\"\n",
    "    Splits a numpy array into chunks using numpy slicing and uploads each chunk to S3.\n",
    "    \n",
    "    :param data: Numpy array to upload\n",
    "    :param bucket_name: Name of the S3 bucket\n",
    "    :param object_name_prefix: Prefix for S3 object names (chunks will be named prefix_0, prefix_1, etc.)\n",
    "    :param chunk_size: Number of elements per chunk\n",
    "    \"\"\"\n",
    "    # Initialize S3 client\n",
    "    s3_client = boto3.client('s3')\n",
    "\n",
    "    num_examples, block_size = data.shape\n",
    "    \n",
    "    uploaded_chunks = []\n",
    "    \n",
    "    for i in tqdm(range(num_examples // chunk_size + 1), desc=\"Uploading chunks\", unit=\"chunk\"):\n",
    "        # Get chunk using numpy slicing\n",
    "        start_idx = i * chunk_size\n",
    "        end_idx = min((i + 1) * chunk_size, len(data))\n",
    "        chunk = data[start_idx:end_idx]\n",
    "        \n",
    "        # Create a name for this chunk\n",
    "        chunk_name = f\"{object_name_prefix}/chunk_{i}.npy\"\n",
    "        \n",
    "        try:\n",
    "            # Save chunk to a bytes buffer\n",
    "            buffer = io.BytesIO()\n",
    "            np.save(buffer, chunk)\n",
    "            buffer.seek(0)\n",
    "            \n",
    "            # Upload to S3\n",
    "            s3_client.upload_fileobj(buffer, bucket_name, chunk_name)\n",
    "            \n",
    "            uploaded_chunks.append(chunk_name)\n",
    "            \n",
    "        except Exception as e:\n",
    "            print(f\"Error uploading chunk {i}: {e}\")\n",
    "            return False\n",
    "    \n",
    "    \n",
    "    print(f\"Successfully uploaded {len(uploaded_chunks)} chunks to {bucket_name} with prefix {object_name_prefix}\")\n",
    "    return uploaded_chunks\n",
    "\n",
    "bucket_name = 'exo-datasets'  # Replace with your S3 bucket name\n",
    "object_name_prefix = 'owt'  # The prefix for chunk names\n",
    "\n",
    "uploaded_chunks = upload_numpy_array_in_chunks(data_file, bucket_name, object_name_prefix, chunk_size=10000)"
   ]
  },
  {
   "cell_type": "code",
   "execution_count": 11,
   "metadata": {},
   "outputs": [
    {
     "name": "stdout",
     "output_type": "stream",
     "text": [
      "[0 1 2 3 4]\n"
     ]
    }
   ],
   "source": [
    "dataset = get_dataset('owt', 0, 0.1)"
   ]
  },
  {
   "cell_type": "code",
   "execution_count": 14,
   "metadata": {},
   "outputs": [
    {
     "data": {
      "text/plain": [
       "(5000, 1024)"
      ]
     },
     "execution_count": 14,
     "metadata": {},
     "output_type": "execute_result"
    }
   ],
   "source": [
    "dataset[0].shape"
   ]
  },
  {
   "cell_type": "code",
   "execution_count": 4,
   "metadata": {},
   "outputs": [
    {
     "data": {
      "text/plain": [
       "(tensor([13924,    12,   559,  ...,  4327,   284,  3236]),\n",
       " tensor([  12,  559,   12,  ...,  284, 3236, 3146]))"
      ]
     },
     "execution_count": 4,
     "metadata": {},
     "output_type": "execute_result"
    }
   ],
   "source": [
    "dataset[0]"
   ]
  }
 ],
 "metadata": {
  "kernelspec": {
   "display_name": ".venv",
   "language": "python",
   "name": "python3"
  },
  "language_info": {
   "codemirror_mode": {
    "name": "ipython",
    "version": 3
   },
   "file_extension": ".py",
   "mimetype": "text/x-python",
   "name": "python",
   "nbconvert_exporter": "python",
   "pygments_lexer": "ipython3",
   "version": "3.13.2"
  }
 },
 "nbformat": 4,
 "nbformat_minor": 2
}
